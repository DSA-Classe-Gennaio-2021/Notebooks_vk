{
 "cells": [
  {
   "cell_type": "code",
   "execution_count": 1,
   "id": "academic-commonwealth",
   "metadata": {},
   "outputs": [],
   "source": [
    "import pandas as pd\n",
    "import matplotlib.pyplot as plt\n",
    "import numpy as np\n",
    "import seaborn as sns"
   ]
  },
  {
   "cell_type": "code",
   "execution_count": 2,
   "id": "adapted-shower",
   "metadata": {},
   "outputs": [],
   "source": [
    "data = pd.read_csv('heart.csv')"
   ]
  },
  {
   "cell_type": "code",
   "execution_count": 3,
   "id": "linear-superior",
   "metadata": {
    "scrolled": false
   },
   "outputs": [
    {
     "data": {
      "text/html": [
       "<div>\n",
       "<style scoped>\n",
       "    .dataframe tbody tr th:only-of-type {\n",
       "        vertical-align: middle;\n",
       "    }\n",
       "\n",
       "    .dataframe tbody tr th {\n",
       "        vertical-align: top;\n",
       "    }\n",
       "\n",
       "    .dataframe thead th {\n",
       "        text-align: right;\n",
       "    }\n",
       "</style>\n",
       "<table border=\"1\" class=\"dataframe\">\n",
       "  <thead>\n",
       "    <tr style=\"text-align: right;\">\n",
       "      <th></th>\n",
       "      <th>age</th>\n",
       "      <th>sex</th>\n",
       "      <th>cp</th>\n",
       "      <th>trestbps</th>\n",
       "      <th>chol</th>\n",
       "      <th>fbs</th>\n",
       "      <th>restecg</th>\n",
       "      <th>thalach</th>\n",
       "      <th>exang</th>\n",
       "      <th>oldpeak</th>\n",
       "      <th>slope</th>\n",
       "      <th>ca</th>\n",
       "      <th>thal</th>\n",
       "      <th>target</th>\n",
       "    </tr>\n",
       "  </thead>\n",
       "  <tbody>\n",
       "    <tr>\n",
       "      <th>0</th>\n",
       "      <td>63</td>\n",
       "      <td>1</td>\n",
       "      <td>3</td>\n",
       "      <td>145</td>\n",
       "      <td>233</td>\n",
       "      <td>1</td>\n",
       "      <td>0</td>\n",
       "      <td>150</td>\n",
       "      <td>0</td>\n",
       "      <td>2.3</td>\n",
       "      <td>0</td>\n",
       "      <td>0</td>\n",
       "      <td>1</td>\n",
       "      <td>1</td>\n",
       "    </tr>\n",
       "    <tr>\n",
       "      <th>1</th>\n",
       "      <td>37</td>\n",
       "      <td>1</td>\n",
       "      <td>2</td>\n",
       "      <td>130</td>\n",
       "      <td>250</td>\n",
       "      <td>0</td>\n",
       "      <td>1</td>\n",
       "      <td>187</td>\n",
       "      <td>0</td>\n",
       "      <td>3.5</td>\n",
       "      <td>0</td>\n",
       "      <td>0</td>\n",
       "      <td>2</td>\n",
       "      <td>1</td>\n",
       "    </tr>\n",
       "    <tr>\n",
       "      <th>2</th>\n",
       "      <td>41</td>\n",
       "      <td>0</td>\n",
       "      <td>1</td>\n",
       "      <td>130</td>\n",
       "      <td>204</td>\n",
       "      <td>0</td>\n",
       "      <td>0</td>\n",
       "      <td>172</td>\n",
       "      <td>0</td>\n",
       "      <td>1.4</td>\n",
       "      <td>2</td>\n",
       "      <td>0</td>\n",
       "      <td>2</td>\n",
       "      <td>1</td>\n",
       "    </tr>\n",
       "    <tr>\n",
       "      <th>3</th>\n",
       "      <td>56</td>\n",
       "      <td>1</td>\n",
       "      <td>1</td>\n",
       "      <td>120</td>\n",
       "      <td>236</td>\n",
       "      <td>0</td>\n",
       "      <td>1</td>\n",
       "      <td>178</td>\n",
       "      <td>0</td>\n",
       "      <td>0.8</td>\n",
       "      <td>2</td>\n",
       "      <td>0</td>\n",
       "      <td>2</td>\n",
       "      <td>1</td>\n",
       "    </tr>\n",
       "    <tr>\n",
       "      <th>4</th>\n",
       "      <td>57</td>\n",
       "      <td>0</td>\n",
       "      <td>0</td>\n",
       "      <td>120</td>\n",
       "      <td>354</td>\n",
       "      <td>0</td>\n",
       "      <td>1</td>\n",
       "      <td>163</td>\n",
       "      <td>1</td>\n",
       "      <td>0.6</td>\n",
       "      <td>2</td>\n",
       "      <td>0</td>\n",
       "      <td>2</td>\n",
       "      <td>1</td>\n",
       "    </tr>\n",
       "    <tr>\n",
       "      <th>...</th>\n",
       "      <td>...</td>\n",
       "      <td>...</td>\n",
       "      <td>...</td>\n",
       "      <td>...</td>\n",
       "      <td>...</td>\n",
       "      <td>...</td>\n",
       "      <td>...</td>\n",
       "      <td>...</td>\n",
       "      <td>...</td>\n",
       "      <td>...</td>\n",
       "      <td>...</td>\n",
       "      <td>...</td>\n",
       "      <td>...</td>\n",
       "      <td>...</td>\n",
       "    </tr>\n",
       "    <tr>\n",
       "      <th>298</th>\n",
       "      <td>57</td>\n",
       "      <td>0</td>\n",
       "      <td>0</td>\n",
       "      <td>140</td>\n",
       "      <td>241</td>\n",
       "      <td>0</td>\n",
       "      <td>1</td>\n",
       "      <td>123</td>\n",
       "      <td>1</td>\n",
       "      <td>0.2</td>\n",
       "      <td>1</td>\n",
       "      <td>0</td>\n",
       "      <td>3</td>\n",
       "      <td>0</td>\n",
       "    </tr>\n",
       "    <tr>\n",
       "      <th>299</th>\n",
       "      <td>45</td>\n",
       "      <td>1</td>\n",
       "      <td>3</td>\n",
       "      <td>110</td>\n",
       "      <td>264</td>\n",
       "      <td>0</td>\n",
       "      <td>1</td>\n",
       "      <td>132</td>\n",
       "      <td>0</td>\n",
       "      <td>1.2</td>\n",
       "      <td>1</td>\n",
       "      <td>0</td>\n",
       "      <td>3</td>\n",
       "      <td>0</td>\n",
       "    </tr>\n",
       "    <tr>\n",
       "      <th>300</th>\n",
       "      <td>68</td>\n",
       "      <td>1</td>\n",
       "      <td>0</td>\n",
       "      <td>144</td>\n",
       "      <td>193</td>\n",
       "      <td>1</td>\n",
       "      <td>1</td>\n",
       "      <td>141</td>\n",
       "      <td>0</td>\n",
       "      <td>3.4</td>\n",
       "      <td>1</td>\n",
       "      <td>2</td>\n",
       "      <td>3</td>\n",
       "      <td>0</td>\n",
       "    </tr>\n",
       "    <tr>\n",
       "      <th>301</th>\n",
       "      <td>57</td>\n",
       "      <td>1</td>\n",
       "      <td>0</td>\n",
       "      <td>130</td>\n",
       "      <td>131</td>\n",
       "      <td>0</td>\n",
       "      <td>1</td>\n",
       "      <td>115</td>\n",
       "      <td>1</td>\n",
       "      <td>1.2</td>\n",
       "      <td>1</td>\n",
       "      <td>1</td>\n",
       "      <td>3</td>\n",
       "      <td>0</td>\n",
       "    </tr>\n",
       "    <tr>\n",
       "      <th>302</th>\n",
       "      <td>57</td>\n",
       "      <td>0</td>\n",
       "      <td>1</td>\n",
       "      <td>130</td>\n",
       "      <td>236</td>\n",
       "      <td>0</td>\n",
       "      <td>0</td>\n",
       "      <td>174</td>\n",
       "      <td>0</td>\n",
       "      <td>0.0</td>\n",
       "      <td>1</td>\n",
       "      <td>1</td>\n",
       "      <td>2</td>\n",
       "      <td>0</td>\n",
       "    </tr>\n",
       "  </tbody>\n",
       "</table>\n",
       "<p>303 rows × 14 columns</p>\n",
       "</div>"
      ],
      "text/plain": [
       "     age  sex  cp  trestbps  chol  fbs  restecg  thalach  exang  oldpeak  \\\n",
       "0     63    1   3       145   233    1        0      150      0      2.3   \n",
       "1     37    1   2       130   250    0        1      187      0      3.5   \n",
       "2     41    0   1       130   204    0        0      172      0      1.4   \n",
       "3     56    1   1       120   236    0        1      178      0      0.8   \n",
       "4     57    0   0       120   354    0        1      163      1      0.6   \n",
       "..   ...  ...  ..       ...   ...  ...      ...      ...    ...      ...   \n",
       "298   57    0   0       140   241    0        1      123      1      0.2   \n",
       "299   45    1   3       110   264    0        1      132      0      1.2   \n",
       "300   68    1   0       144   193    1        1      141      0      3.4   \n",
       "301   57    1   0       130   131    0        1      115      1      1.2   \n",
       "302   57    0   1       130   236    0        0      174      0      0.0   \n",
       "\n",
       "     slope  ca  thal  target  \n",
       "0        0   0     1       1  \n",
       "1        0   0     2       1  \n",
       "2        2   0     2       1  \n",
       "3        2   0     2       1  \n",
       "4        2   0     2       1  \n",
       "..     ...  ..   ...     ...  \n",
       "298      1   0     3       0  \n",
       "299      1   0     3       0  \n",
       "300      1   2     3       0  \n",
       "301      1   1     3       0  \n",
       "302      1   1     2       0  \n",
       "\n",
       "[303 rows x 14 columns]"
      ]
     },
     "execution_count": 3,
     "metadata": {},
     "output_type": "execute_result"
    }
   ],
   "source": [
    "data"
   ]
  },
  {
   "cell_type": "markdown",
   "id": "raised-shower",
   "metadata": {},
   "source": [
    "#  Outliers Detection and Removal"
   ]
  },
  {
   "cell_type": "code",
   "execution_count": 4,
   "id": "physical-bridal",
   "metadata": {},
   "outputs": [
    {
     "name": "stderr",
     "output_type": "stream",
     "text": [
      "C:\\Users\\clzin\\miniconda3\\envs\\DSA\\lib\\site-packages\\seaborn\\_decorators.py:43: FutureWarning: Pass the following variable as a keyword arg: x. From version 0.12, the only valid positional argument will be `data`, and passing other arguments without an explicit keyword will result in an error or misinterpretation.\n",
      "  FutureWarning\n",
      "C:\\Users\\clzin\\miniconda3\\envs\\DSA\\lib\\site-packages\\seaborn\\_decorators.py:43: FutureWarning: Pass the following variable as a keyword arg: x. From version 0.12, the only valid positional argument will be `data`, and passing other arguments without an explicit keyword will result in an error or misinterpretation.\n",
      "  FutureWarning\n",
      "C:\\Users\\clzin\\miniconda3\\envs\\DSA\\lib\\site-packages\\seaborn\\_decorators.py:43: FutureWarning: Pass the following variable as a keyword arg: x. From version 0.12, the only valid positional argument will be `data`, and passing other arguments without an explicit keyword will result in an error or misinterpretation.\n",
      "  FutureWarning\n",
      "C:\\Users\\clzin\\miniconda3\\envs\\DSA\\lib\\site-packages\\seaborn\\_decorators.py:43: FutureWarning: Pass the following variable as a keyword arg: x. From version 0.12, the only valid positional argument will be `data`, and passing other arguments without an explicit keyword will result in an error or misinterpretation.\n",
      "  FutureWarning\n",
      "C:\\Users\\clzin\\miniconda3\\envs\\DSA\\lib\\site-packages\\seaborn\\_decorators.py:43: FutureWarning: Pass the following variable as a keyword arg: x. From version 0.12, the only valid positional argument will be `data`, and passing other arguments without an explicit keyword will result in an error or misinterpretation.\n",
      "  FutureWarning\n"
     ]
    },
    {
     "data": {
      "image/png": "[encoded data removed]",
      "text/plain": [
       "<Figure size 432x288 with 1 Axes>"
      ]
     },
     "metadata": {
      "needs_background": "light"
     },
     "output_type": "display_data"
    },
    {
     "data": {
      "image/png": "[encoded data removed]",
      "text/plain": [
       "<Figure size 432x288 with 1 Axes>"
      ]
     },
     "metadata": {
      "needs_background": "light"
     },
     "output_type": "display_data"
    },
    {
     "data": {
      "image/png": "[encoded data removed]",
      "text/plain": [
       "<Figure size 432x288 with 1 Axes>"
      ]
     },
     "metadata": {
      "needs_background": "light"
     },
     "output_type": "display_data"
    },
    {
     "data": {
      "image/png": "[encoded data removed]",
      "text/plain": [
       "<Figure size 432x288 with 1 Axes>"
      ]
     },
     "metadata": {
      "needs_background": "light"
     },
     "output_type": "display_data"
    },
    {
     "data": {
      "image/png": "[encoded data removed]",
      "text/plain": [
       "<Figure size 432x288 with 1 Axes>"
      ]
     },
     "metadata": {
      "needs_background": "light"
     },
     "output_type": "display_data"
    }
   ],
   "source": [
    "data_cont = data[['age','trestbps','chol','thalach','oldpeak']]\n",
    "for figure in data_cont:\n",
    "    plt.figure()\n",
    "    plt.title(figure)\n",
    "    ax = sns.boxplot(data[figure])"
   ]
  },
  {
   "cell_type": "code",
   "execution_count": 5,
   "id": "alternate-fellow",
   "metadata": {},
   "outputs": [],
   "source": [
    "from sklearn.preprocessing import StandardScaler"
   ]
  },
  {
   "cell_type": "code",
   "execution_count": 6,
   "id": "differential-hotel",
   "metadata": {},
   "outputs": [],
   "source": [
    "scaler_1 = StandardScaler(with_mean=True, with_std=True)  # 0 mean for z_score\n",
    "scaler_2 = StandardScaler(with_mean=False, with_std=True)  # actual mean "
   ]
  },
  {
   "cell_type": "code",
   "execution_count": 7,
   "id": "related-occupation",
   "metadata": {},
   "outputs": [],
   "source": [
    "no_mean_data = data.copy()"
   ]
  },
  {
   "cell_type": "code",
   "execution_count": 8,
   "id": "mental-opportunity",
   "metadata": {},
   "outputs": [],
   "source": [
    "no_mean_data[['age','trestbps','chol','thalach','oldpeak']] = scaler_1.fit_transform(data[['age','trestbps','chol','thalach','oldpeak']])"
   ]
  },
  {
   "cell_type": "code",
   "execution_count": 9,
   "id": "metric-olive",
   "metadata": {},
   "outputs": [],
   "source": [
    "from scipy import stats"
   ]
  },
  {
   "cell_type": "code",
   "execution_count": 10,
   "id": "innocent-integer",
   "metadata": {},
   "outputs": [],
   "source": [
    "z= np.abs(stats.zscore(no_mean_data))"
   ]
  },
  {
   "cell_type": "code",
   "execution_count": 11,
   "id": "involved-killing",
   "metadata": {},
   "outputs": [],
   "source": [
    "row_to_remove = np.where(z > 3) # with z <= 2 there are no outliers"
   ]
  },
  {
   "cell_type": "code",
   "execution_count": 12,
   "id": "neutral-curtis",
   "metadata": {},
   "outputs": [],
   "source": [
    "data = data.drop(row_to_remove[0], axis=0)"
   ]
  },
  {
   "cell_type": "code",
   "execution_count": 13,
   "id": "daily-longitude",
   "metadata": {},
   "outputs": [],
   "source": [
    "data[['age','trestbps','chol','thalach','oldpeak']] = scaler_2.fit_transform(data[['age','trestbps','chol','thalach','oldpeak']])"
   ]
  },
  {
   "cell_type": "markdown",
   "id": "compressed-interim",
   "metadata": {},
   "source": [
    "# Feature Selection\n",
    "## We will try different methods \n",
    "### Univariate feature selection"
   ]
  },
  {
   "cell_type": "code",
   "execution_count": 14,
   "id": "leading-ebony",
   "metadata": {},
   "outputs": [],
   "source": [
    "from sklearn.feature_selection import chi2, f_classif\n",
    "from math import log10"
   ]
  },
  {
   "cell_type": "code",
   "execution_count": 15,
   "id": "freelance-yeast",
   "metadata": {},
   "outputs": [],
   "source": [
    "cat = data[[data.columns[i] for i in range(len(data.columns)) if data.iloc[:,i].dtypes == 'int64']] \n",
    "cont = data[[data.columns[i] for i in range(len(data.columns)) if data.iloc[:,i].dtypes == 'float64']]"
   ]
  },
  {
   "cell_type": "code",
   "execution_count": 16,
   "id": "minute-intersection",
   "metadata": {},
   "outputs": [
    {
     "data": {
      "text/plain": [
       "<AxesSubplot:>"
      ]
     },
     "execution_count": 16,
     "metadata": {},
     "output_type": "execute_result"
    },
    {
     "data": {
      "image/png": "[encoded data removed]",
      "text/plain": [
       "<Figure size 432x288 with 1 Axes>"
      ]
     },
     "metadata": {
      "needs_background": "light"
     },
     "output_type": "display_data"
    }
   ],
   "source": [
    "chi_scores, chi_pval = chi2(cat.drop('target', axis=1), cat['target'])\n",
    "log10_pval = -np.log10(chi_pval)\n",
    "columns = cat.drop('target', axis=1).columns\n",
    "pd.DataFrame(log10_pval, index=columns).plot.bar()"
   ]
  },
  {
   "cell_type": "code",
   "execution_count": 17,
   "id": "arbitrary-senator",
   "metadata": {},
   "outputs": [
    {
     "data": {
      "text/plain": [
       "<AxesSubplot:>"
      ]
     },
     "execution_count": 17,
     "metadata": {},
     "output_type": "execute_result"
    },
    {
     "data": {
      "image/png": "[encoded data removed]",
      "text/plain": [
       "<Figure size 432x288 with 1 Axes>"
      ]
     },
     "metadata": {
      "needs_background": "light"
     },
     "output_type": "display_data"
    }
   ],
   "source": [
    "f_scores, f_pval = f_classif(cont, cat['target'])\n",
    "log10_f_pval = -np.log10(f_pval)\n",
    "pd.DataFrame(log10_f_pval, index=cont.columns).plot.bar()"
   ]
  },
  {
   "cell_type": "markdown",
   "id": "decreased-today",
   "metadata": {},
   "source": [
    "fbs probably is not a good predictor"
   ]
  },
  {
   "cell_type": "code",
   "execution_count": 18,
   "id": "consistent-entertainment",
   "metadata": {},
   "outputs": [],
   "source": [
    "datasets = []"
   ]
  },
  {
   "cell_type": "code",
   "execution_count": 19,
   "id": "italic-syndrome",
   "metadata": {},
   "outputs": [],
   "source": [
    "univariate_dataset = data.drop(['fbs','target'], axis=1)\n",
    "univariate_dataset.name = 'univariate_dataset'\n",
    "datasets.append(univariate_dataset)"
   ]
  },
  {
   "cell_type": "markdown",
   "id": "crude-dairy",
   "metadata": {},
   "source": [
    "### SelectFromModel"
   ]
  },
  {
   "cell_type": "code",
   "execution_count": 20,
   "id": "suffering-wilson",
   "metadata": {},
   "outputs": [],
   "source": [
    "from sklearn.feature_selection import SelectFromModel"
   ]
  },
  {
   "cell_type": "code",
   "execution_count": 21,
   "id": "olive-expert",
   "metadata": {},
   "outputs": [],
   "source": [
    "X = data.iloc[:,0:-1]\n",
    "y = data.iloc[:,-1]"
   ]
  },
  {
   "cell_type": "code",
   "execution_count": 22,
   "id": "opposite-tsunami",
   "metadata": {},
   "outputs": [],
   "source": [
    "from sklearn.svm import LinearSVC\n",
    "\n",
    "lsvc = LinearSVC(C=0.01, penalty=\"l1\", dual=False).fit(X, y)\n",
    "model = SelectFromModel(lsvc, prefit=True)\n",
    "SelectFM_SVC_dataset = model.transform(X)\n",
    "SelectFM_SVC_dataset = pd.DataFrame(SelectFM_SVC_dataset)\n",
    "SelectFM_SVC_dataset.name = 'SelectFM_SVC_dataset'\n",
    "\n",
    "datasets.append(SelectFM_SVC_dataset)"
   ]
  },
  {
   "cell_type": "code",
   "execution_count": 23,
   "id": "greenhouse-grass",
   "metadata": {},
   "outputs": [],
   "source": [
    "from sklearn.ensemble import ExtraTreesClassifier\n",
    "\n",
    "tree_clf = ExtraTreesClassifier(n_estimators=70)\n",
    "tree_clf = tree_clf.fit(X, y)\n",
    "model = SelectFromModel(tree_clf, prefit=True)\n",
    "SelectFM_Tree_dataset = model.transform(X)\n",
    "SelectFM_Tree_dataset = pd.DataFrame(SelectFM_Tree_dataset)\n",
    "SelectFM_Tree_dataset.name = 'SelectFM_Tree_dataset'\n",
    "\n",
    "\n",
    "datasets.append(SelectFM_Tree_dataset)"
   ]
  },
  {
   "cell_type": "markdown",
   "id": "norman-basic",
   "metadata": {},
   "source": [
    "### Sequential Feature Selection"
   ]
  },
  {
   "cell_type": "code",
   "execution_count": 24,
   "id": "senior-valuation",
   "metadata": {},
   "outputs": [],
   "source": [
    "from sklearn.feature_selection import SequentialFeatureSelector"
   ]
  },
  {
   "cell_type": "code",
   "execution_count": 25,
   "id": "planned-writing",
   "metadata": {},
   "outputs": [],
   "source": [
    "lsvc = LinearSVC(C=0.01, penalty=\"l1\", dual=False)\n",
    "tree_clf = ExtraTreesClassifier(n_estimators=70)"
   ]
  },
  {
   "cell_type": "code",
   "execution_count": 26,
   "id": "framed-priest",
   "metadata": {},
   "outputs": [],
   "source": [
    "sfs = SequentialFeatureSelector(lsvc, n_features_to_select=9)\n",
    "sfs_back = SequentialFeatureSelector(lsvc, n_features_to_select=9, direction='backward')\n",
    "\n",
    "Sequential_SVC_dataset = sfs.fit_transform(X, y)\n",
    "Sequential_SVC_dataset = pd.DataFrame(Sequential_SVC_dataset)\n",
    "Sequential_SVC_dataset.name = 'Sequential_SVC_dataset'\n",
    "\n",
    "\n",
    "datasets.append(Sequential_SVC_dataset)\n",
    "\n",
    "Sequential_back_SVC_dataset = sfs_back.fit_transform(X, y) \n",
    "Sequential_back_SVC_dataset = pd.DataFrame(Sequential_back_SVC_dataset)\n",
    "Sequential_back_SVC_dataset.name = 'Sequential_back_SVC_dataset'\n",
    "\n",
    "\n",
    "datasets.append(Sequential_back_SVC_dataset)"
   ]
  },
  {
   "cell_type": "code",
   "execution_count": 27,
   "id": "seventh-rainbow",
   "metadata": {},
   "outputs": [],
   "source": [
    "sfs = SequentialFeatureSelector(tree_clf, n_features_to_select=9)\n",
    "sfs_back = SequentialFeatureSelector(tree_clf, n_features_to_select=9, direction='backward')\n",
    "\n",
    "Sequential_Tree_dataset = sfs.fit_transform(X, y)\n",
    "Sequential_Tree_dataset = pd.DataFrame(Sequential_Tree_dataset)\n",
    "Sequential_Tree_dataset.name = 'Sequential_Tree_dataset'\n",
    "\n",
    "\n",
    "datasets.append(Sequential_Tree_dataset)\n",
    "\n",
    "Sequential_back_Tree_dataset = sfs_back.fit_transform(X, y) \n",
    "Sequential_back_Tree_dataset = pd.DataFrame(Sequential_back_Tree_dataset)\n",
    "Sequential_back_Tree_dataset.name = 'Sequential_back_Tree_dataset'\n",
    "\n",
    "\n",
    "datasets.append(Sequential_back_Tree_dataset)"
   ]
  },
  {
   "cell_type": "code",
   "execution_count": 28,
   "id": "overhead-fairy",
   "metadata": {},
   "outputs": [],
   "source": [
    "from sklearn.model_selection import train_test_split\n",
    "from sklearn.svm import SVC\n",
    "from sklearn.tree import DecisionTreeClassifier\n",
    "from sklearn.linear_model import LogisticRegression\n",
    "from sklearn.ensemble import RandomForestClassifier\n",
    "from sklearn.model_selection import cross_val_score\n",
    "from sklearn.metrics import roc_auc_score\n",
    "import xgboost as xgb"
   ]
  },
  {
   "cell_type": "code",
   "execution_count": 29,
   "id": "handmade-earthquake",
   "metadata": {},
   "outputs": [],
   "source": [
    "models = [\n",
    "    LogisticRegression(random_state=0, max_iter=1000),\n",
    "    DecisionTreeClassifier(random_state=0, max_depth=5),\n",
    "    RandomForestClassifier(max_depth=5, random_state=0),\n",
    "    SVC(gamma='auto', kernel='linear'),\n",
    "    xgb.XGBClassifier(objective='binary:logistic', use_label_encoder=False,\n",
    "                              n_estimators = 10000, n_jobs=10, early_stopping_rounds=10),\n",
    "    \n",
    "]"
   ]
  },
  {
   "cell_type": "code",
   "execution_count": 30,
   "id": "indian-console",
   "metadata": {},
   "outputs": [],
   "source": [
    "models_names = [\n",
    "    'Logistic Regression',\n",
    "    'Decision Tree',\n",
    "    'Random Forest',\n",
    "    'SVC',\n",
    "    'XGBoost'\n",
    "]"
   ]
  },
  {
   "cell_type": "code",
   "execution_count": 31,
   "id": "deluxe-armenia",
   "metadata": {},
   "outputs": [],
   "source": [
    "results = {}\n",
    "for dtst in datasets:\n",
    "    scores = {}\n",
    "    counter = 0\n",
    "    for model in models:\n",
    "        score = cross_val_score(model, dtst, y, cv=3)\n",
    "        scores[models_names[counter]] = np.mean(score)\n",
    "        counter += 1\n",
    "    results[dtst.name] = scores   "
   ]
  },
  {
   "cell_type": "code",
   "execution_count": 32,
   "id": "italic-museum",
   "metadata": {},
   "outputs": [],
   "source": [
    "results_accuracy = pd.DataFrame(results)"
   ]
  },
  {
   "cell_type": "code",
   "execution_count": 33,
   "id": "polar-luxembourg",
   "metadata": {},
   "outputs": [],
   "source": [
    "results = {}\n",
    "for dtst in datasets:\n",
    "    scores = {}\n",
    "    counter = 0\n",
    "    for model in models:\n",
    "        score = cross_val_score(model, dtst, y, cv=3, scoring='roc_auc')\n",
    "        scores[models_names[counter]] = np.mean(score)\n",
    "        counter += 1\n",
    "    results[dtst.name] = scores   "
   ]
  },
  {
   "cell_type": "code",
   "execution_count": 34,
   "id": "australian-procedure",
   "metadata": {},
   "outputs": [],
   "source": [
    "results_ROC_AUC = pd.DataFrame(results)"
   ]
  },
  {
   "cell_type": "code",
   "execution_count": 35,
   "id": "focused-honor",
   "metadata": {},
   "outputs": [
    {
     "data": {
      "text/html": [
       "<div>\n",
       "<style scoped>\n",
       "    .dataframe tbody tr th:only-of-type {\n",
       "        vertical-align: middle;\n",
       "    }\n",
       "\n",
       "    .dataframe tbody tr th {\n",
       "        vertical-align: top;\n",
       "    }\n",
       "\n",
       "    .dataframe thead th {\n",
       "        text-align: right;\n",
       "    }\n",
       "</style>\n",
       "<table border=\"1\" class=\"dataframe\">\n",
       "  <thead>\n",
       "    <tr style=\"text-align: right;\">\n",
       "      <th></th>\n",
       "      <th>univariate_dataset</th>\n",
       "      <th>SelectFM_SVC_dataset</th>\n",
       "      <th>SelectFM_Tree_dataset</th>\n",
       "      <th>Sequential_SVC_dataset</th>\n",
       "      <th>Sequential_back_SVC_dataset</th>\n",
       "      <th>Sequential_Tree_dataset</th>\n",
       "      <th>Sequential_back_Tree_dataset</th>\n",
       "    </tr>\n",
       "  </thead>\n",
       "  <tbody>\n",
       "    <tr>\n",
       "      <th>Logistic Regression</th>\n",
       "      <td>0.836111</td>\n",
       "      <td>0.822186</td>\n",
       "      <td>0.836184</td>\n",
       "      <td>0.815314</td>\n",
       "      <td>0.832639</td>\n",
       "      <td>0.822186</td>\n",
       "      <td>0.829130</td>\n",
       "    </tr>\n",
       "    <tr>\n",
       "      <th>Decision Tree</th>\n",
       "      <td>0.721089</td>\n",
       "      <td>0.794408</td>\n",
       "      <td>0.790936</td>\n",
       "      <td>0.742288</td>\n",
       "      <td>0.790826</td>\n",
       "      <td>0.769956</td>\n",
       "      <td>0.745431</td>\n",
       "    </tr>\n",
       "    <tr>\n",
       "      <th>Random Forest</th>\n",
       "      <td>0.829203</td>\n",
       "      <td>0.822149</td>\n",
       "      <td>0.801425</td>\n",
       "      <td>0.815314</td>\n",
       "      <td>0.822222</td>\n",
       "      <td>0.832639</td>\n",
       "      <td>0.822113</td>\n",
       "    </tr>\n",
       "    <tr>\n",
       "      <th>SVC</th>\n",
       "      <td>0.832675</td>\n",
       "      <td>0.811769</td>\n",
       "      <td>0.822222</td>\n",
       "      <td>0.801352</td>\n",
       "      <td>0.808224</td>\n",
       "      <td>0.804751</td>\n",
       "      <td>0.815205</td>\n",
       "    </tr>\n",
       "    <tr>\n",
       "      <th>XGBoost</th>\n",
       "      <td>0.801243</td>\n",
       "      <td>0.759393</td>\n",
       "      <td>0.773319</td>\n",
       "      <td>0.780446</td>\n",
       "      <td>0.776754</td>\n",
       "      <td>0.829130</td>\n",
       "      <td>0.776827</td>\n",
       "    </tr>\n",
       "  </tbody>\n",
       "</table>\n",
       "</div>"
      ],
      "text/plain": [
       "                     univariate_dataset  SelectFM_SVC_dataset  \\\n",
       "Logistic Regression            0.836111              0.822186   \n",
       "Decision Tree                  0.721089              0.794408   \n",
       "Random Forest                  0.829203              0.822149   \n",
       "SVC                            0.832675              0.811769   \n",
       "XGBoost                        0.801243              0.759393   \n",
       "\n",
       "                     SelectFM_Tree_dataset  Sequential_SVC_dataset  \\\n",
       "Logistic Regression               0.836184                0.815314   \n",
       "Decision Tree                     0.790936                0.742288   \n",
       "Random Forest                     0.801425                0.815314   \n",
       "SVC                               0.822222                0.801352   \n",
       "XGBoost                           0.773319                0.780446   \n",
       "\n",
       "                     Sequential_back_SVC_dataset  Sequential_Tree_dataset  \\\n",
       "Logistic Regression                     0.832639                 0.822186   \n",
       "Decision Tree                           0.790826                 0.769956   \n",
       "Random Forest                           0.822222                 0.832639   \n",
       "SVC                                     0.808224                 0.804751   \n",
       "XGBoost                                 0.776754                 0.829130   \n",
       "\n",
       "                     Sequential_back_Tree_dataset  \n",
       "Logistic Regression                      0.829130  \n",
       "Decision Tree                            0.745431  \n",
       "Random Forest                            0.822113  \n",
       "SVC                                      0.815205  \n",
       "XGBoost                                  0.776827  "
      ]
     },
     "execution_count": 35,
     "metadata": {},
     "output_type": "execute_result"
    }
   ],
   "source": [
    "results_accuracy"
   ]
  },
  {
   "cell_type": "code",
   "execution_count": 37,
   "id": "tender-green",
   "metadata": {
    "scrolled": true
   },
   "outputs": [
    {
     "data": {
      "text/html": [
       "<div>\n",
       "<style scoped>\n",
       "    .dataframe tbody tr th:only-of-type {\n",
       "        vertical-align: middle;\n",
       "    }\n",
       "\n",
       "    .dataframe tbody tr th {\n",
       "        vertical-align: top;\n",
       "    }\n",
       "\n",
       "    .dataframe thead th {\n",
       "        text-align: right;\n",
       "    }\n",
       "</style>\n",
       "<table border=\"1\" class=\"dataframe\">\n",
       "  <thead>\n",
       "    <tr style=\"text-align: right;\">\n",
       "      <th></th>\n",
       "      <th>univariate_dataset</th>\n",
       "      <th>SelectFM_SVC_dataset</th>\n",
       "      <th>SelectFM_Tree_dataset</th>\n",
       "      <th>Sequential_SVC_dataset</th>\n",
       "      <th>Sequential_back_SVC_dataset</th>\n",
       "      <th>Sequential_Tree_dataset</th>\n",
       "      <th>Sequential_back_Tree_dataset</th>\n",
       "    </tr>\n",
       "  </thead>\n",
       "  <tbody>\n",
       "    <tr>\n",
       "      <th>Logistic Regression</th>\n",
       "      <td>0.910065</td>\n",
       "      <td>0.897129</td>\n",
       "      <td>0.899534</td>\n",
       "      <td>0.886784</td>\n",
       "      <td>0.899382</td>\n",
       "      <td>0.907264</td>\n",
       "      <td>0.895880</td>\n",
       "    </tr>\n",
       "    <tr>\n",
       "      <th>Decision Tree</th>\n",
       "      <td>0.702841</td>\n",
       "      <td>0.778763</td>\n",
       "      <td>0.777812</td>\n",
       "      <td>0.759847</td>\n",
       "      <td>0.789903</td>\n",
       "      <td>0.754527</td>\n",
       "      <td>0.742808</td>\n",
       "    </tr>\n",
       "    <tr>\n",
       "      <th>Random Forest</th>\n",
       "      <td>0.907655</td>\n",
       "      <td>0.892030</td>\n",
       "      <td>0.897759</td>\n",
       "      <td>0.876489</td>\n",
       "      <td>0.901703</td>\n",
       "      <td>0.916897</td>\n",
       "      <td>0.892854</td>\n",
       "    </tr>\n",
       "    <tr>\n",
       "      <th>SVC</th>\n",
       "      <td>0.910574</td>\n",
       "      <td>0.895506</td>\n",
       "      <td>0.900015</td>\n",
       "      <td>0.881108</td>\n",
       "      <td>0.896465</td>\n",
       "      <td>0.909067</td>\n",
       "      <td>0.894227</td>\n",
       "    </tr>\n",
       "    <tr>\n",
       "      <th>XGBoost</th>\n",
       "      <td>0.881389</td>\n",
       "      <td>0.844843</td>\n",
       "      <td>0.846801</td>\n",
       "      <td>0.853250</td>\n",
       "      <td>0.851026</td>\n",
       "      <td>0.893110</td>\n",
       "      <td>0.862957</td>\n",
       "    </tr>\n",
       "  </tbody>\n",
       "</table>\n",
       "</div>"
      ],
      "text/plain": [
       "                     univariate_dataset  SelectFM_SVC_dataset  \\\n",
       "Logistic Regression            0.910065              0.897129   \n",
       "Decision Tree                  0.702841              0.778763   \n",
       "Random Forest                  0.907655              0.892030   \n",
       "SVC                            0.910574              0.895506   \n",
       "XGBoost                        0.881389              0.844843   \n",
       "\n",
       "                     SelectFM_Tree_dataset  Sequential_SVC_dataset  \\\n",
       "Logistic Regression               0.899534                0.886784   \n",
       "Decision Tree                     0.777812                0.759847   \n",
       "Random Forest                     0.897759                0.876489   \n",
       "SVC                               0.900015                0.881108   \n",
       "XGBoost                           0.846801                0.853250   \n",
       "\n",
       "                     Sequential_back_SVC_dataset  Sequential_Tree_dataset  \\\n",
       "Logistic Regression                     0.899382                 0.907264   \n",
       "Decision Tree                           0.789903                 0.754527   \n",
       "Random Forest                           0.901703                 0.916897   \n",
       "SVC                                     0.896465                 0.909067   \n",
       "XGBoost                                 0.851026                 0.893110   \n",
       "\n",
       "                     Sequential_back_Tree_dataset  \n",
       "Logistic Regression                      0.895880  \n",
       "Decision Tree                            0.742808  \n",
       "Random Forest                            0.892854  \n",
       "SVC                                      0.894227  \n",
       "XGBoost                                  0.862957  "
      ]
     },
     "execution_count": 37,
     "metadata": {},
     "output_type": "execute_result"
    }
   ],
   "source": [
    "results_ROC_AUC"
   ]
  },
  {
   "cell_type": "code",
   "execution_count": 36,
   "id": "living-means",
   "metadata": {},
   "outputs": [],
   "source": [
    "model_accuracy = pd.DataFrame(results_accuracy.mean(axis=1)).rename(columns={0:'mean_accuracy'})\n",
    "dataset_accuracy = pd.DataFrame(results_accuracy.mean(axis=0)).rename(columns={0:'mean_accuracy'})\n",
    "model_ROC_AUC = pd.DataFrame(results_ROC_AUC.mean(axis=1)).rename(columns={0:'mean_roc_auc_score'})\n",
    "dataset_ROC_AUC = pd.DataFrame(results_ROC_AUC.mean(axis=0)).rename(columns={0:'mean_roc_auc_score'})"
   ]
  },
  {
   "cell_type": "code",
   "execution_count": 39,
   "id": "chicken-merit",
   "metadata": {},
   "outputs": [],
   "source": [
    "model_scoring = model_accuracy.join(model_ROC_AUC)\n",
    "dataset_scoring = dataset_accuracy.join(dataset_ROC_AUC)"
   ]
  },
  {
   "cell_type": "code",
   "execution_count": 40,
   "id": "compressed-specific",
   "metadata": {
    "scrolled": true
   },
   "outputs": [
    {
     "data": {
      "text/html": [
       "<div>\n",
       "<style scoped>\n",
       "    .dataframe tbody tr th:only-of-type {\n",
       "        vertical-align: middle;\n",
       "    }\n",
       "\n",
       "    .dataframe tbody tr th {\n",
       "        vertical-align: top;\n",
       "    }\n",
       "\n",
       "    .dataframe thead th {\n",
       "        text-align: right;\n",
       "    }\n",
       "</style>\n",
       "<table border=\"1\" class=\"dataframe\">\n",
       "  <thead>\n",
       "    <tr style=\"text-align: right;\">\n",
       "      <th></th>\n",
       "      <th>mean_accuracy</th>\n",
       "      <th>mean_roc_auc_score</th>\n",
       "    </tr>\n",
       "  </thead>\n",
       "  <tbody>\n",
       "    <tr>\n",
       "      <th>Logistic Regression</th>\n",
       "      <td>0.827679</td>\n",
       "      <td>0.899434</td>\n",
       "    </tr>\n",
       "    <tr>\n",
       "      <th>Decision Tree</th>\n",
       "      <td>0.764991</td>\n",
       "      <td>0.758072</td>\n",
       "    </tr>\n",
       "    <tr>\n",
       "      <th>Random Forest</th>\n",
       "      <td>0.820724</td>\n",
       "      <td>0.897912</td>\n",
       "    </tr>\n",
       "    <tr>\n",
       "      <th>SVC</th>\n",
       "      <td>0.813743</td>\n",
       "      <td>0.898137</td>\n",
       "    </tr>\n",
       "    <tr>\n",
       "      <th>XGBoost</th>\n",
       "      <td>0.785302</td>\n",
       "      <td>0.861911</td>\n",
       "    </tr>\n",
       "  </tbody>\n",
       "</table>\n",
       "</div>"
      ],
      "text/plain": [
       "                     mean_accuracy  mean_roc_auc_score\n",
       "Logistic Regression       0.827679            0.899434\n",
       "Decision Tree             0.764991            0.758072\n",
       "Random Forest             0.820724            0.897912\n",
       "SVC                       0.813743            0.898137\n",
       "XGBoost                   0.785302            0.861911"
      ]
     },
     "execution_count": 40,
     "metadata": {},
     "output_type": "execute_result"
    }
   ],
   "source": [
    "model_scoring"
   ]
  },
  {
   "cell_type": "code",
   "execution_count": 41,
   "id": "dressed-wallpaper",
   "metadata": {
    "scrolled": true
   },
   "outputs": [
    {
     "data": {
      "text/html": [
       "<div>\n",
       "<style scoped>\n",
       "    .dataframe tbody tr th:only-of-type {\n",
       "        vertical-align: middle;\n",
       "    }\n",
       "\n",
       "    .dataframe tbody tr th {\n",
       "        vertical-align: top;\n",
       "    }\n",
       "\n",
       "    .dataframe thead th {\n",
       "        text-align: right;\n",
       "    }\n",
       "</style>\n",
       "<table border=\"1\" class=\"dataframe\">\n",
       "  <thead>\n",
       "    <tr style=\"text-align: right;\">\n",
       "      <th></th>\n",
       "      <th>mean_accuracy</th>\n",
       "      <th>mean_roc_auc_score</th>\n",
       "    </tr>\n",
       "  </thead>\n",
       "  <tbody>\n",
       "    <tr>\n",
       "      <th>univariate_dataset</th>\n",
       "      <td>0.804064</td>\n",
       "      <td>0.862505</td>\n",
       "    </tr>\n",
       "    <tr>\n",
       "      <th>SelectFM_SVC_dataset</th>\n",
       "      <td>0.801981</td>\n",
       "      <td>0.861654</td>\n",
       "    </tr>\n",
       "    <tr>\n",
       "      <th>SelectFM_Tree_dataset</th>\n",
       "      <td>0.804817</td>\n",
       "      <td>0.864384</td>\n",
       "    </tr>\n",
       "    <tr>\n",
       "      <th>Sequential_SVC_dataset</th>\n",
       "      <td>0.790943</td>\n",
       "      <td>0.851496</td>\n",
       "    </tr>\n",
       "    <tr>\n",
       "      <th>Sequential_back_SVC_dataset</th>\n",
       "      <td>0.806133</td>\n",
       "      <td>0.867696</td>\n",
       "    </tr>\n",
       "    <tr>\n",
       "      <th>Sequential_Tree_dataset</th>\n",
       "      <td>0.811732</td>\n",
       "      <td>0.876173</td>\n",
       "    </tr>\n",
       "    <tr>\n",
       "      <th>Sequential_back_Tree_dataset</th>\n",
       "      <td>0.797741</td>\n",
       "      <td>0.857745</td>\n",
       "    </tr>\n",
       "  </tbody>\n",
       "</table>\n",
       "</div>"
      ],
      "text/plain": [
       "                              mean_accuracy  mean_roc_auc_score\n",
       "univariate_dataset                 0.804064            0.862505\n",
       "SelectFM_SVC_dataset               0.801981            0.861654\n",
       "SelectFM_Tree_dataset              0.804817            0.864384\n",
       "Sequential_SVC_dataset             0.790943            0.851496\n",
       "Sequential_back_SVC_dataset        0.806133            0.867696\n",
       "Sequential_Tree_dataset            0.811732            0.876173\n",
       "Sequential_back_Tree_dataset       0.797741            0.857745"
      ]
     },
     "execution_count": 41,
     "metadata": {},
     "output_type": "execute_result"
    }
   ],
   "source": [
    "dataset_scoring"
   ]
  },
  {
   "cell_type": "code",
   "execution_count": null,
   "id": "brilliant-passport",
   "metadata": {},
   "outputs": [],
   "source": []
  }
 ],
 "metadata": {
  "kernelspec": {
   "display_name": "Python 3",
   "language": "python",
   "name": "python3"
  },
  "language_info": {
   "codemirror_mode": {
    "name": "ipython",
    "version": 3
   },
   "file_extension": ".py",
   "mimetype": "text/x-python",
   "name": "python",
   "nbconvert_exporter": "python",
   "pygments_lexer": "ipython3",
   "version": "3.7.9"
  }
 },
 "nbformat": 4,
 "nbformat_minor": 5
}
