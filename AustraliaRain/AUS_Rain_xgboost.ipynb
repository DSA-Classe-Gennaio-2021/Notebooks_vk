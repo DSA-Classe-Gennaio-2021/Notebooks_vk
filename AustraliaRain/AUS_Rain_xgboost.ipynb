{
 "cells": [
  {
   "cell_type": "markdown",
   "id": "surprising-victoria",
   "metadata": {},
   "source": [
    "Here are used custom functions and classes, their code is found on Custom_Class_Func.py"
   ]
  },
  {
   "cell_type": "code",
   "execution_count": 99,
   "id": "spoken-cyprus",
   "metadata": {},
   "outputs": [],
   "source": [
    "import pandas as pd\n",
    "import matplotlib.pyplot as plt\n",
    "import numpy as np\n",
    "from sklearn.metrics import confusion_matrix, plot_roc_curve\n",
    "from sklearn.metrics import roc_auc_score, precision_score, recall_score"
   ]
  },
  {
   "cell_type": "code",
   "execution_count": 100,
   "id": "metropolitan-french",
   "metadata": {},
   "outputs": [],
   "source": [
    "data = pd.read_csv('weatherAUS.csv')"
   ]
  },
  {
   "cell_type": "code",
   "execution_count": 101,
   "id": "tested-robert",
   "metadata": {},
   "outputs": [
    {
     "data": {
      "text/html": [
       "<div>\n",
       "<style scoped>\n",
       "    .dataframe tbody tr th:only-of-type {\n",
       "        vertical-align: middle;\n",
       "    }\n",
       "\n",
       "    .dataframe tbody tr th {\n",
       "        vertical-align: top;\n",
       "    }\n",
       "\n",
       "    .dataframe thead th {\n",
       "        text-align: right;\n",
       "    }\n",
       "</style>\n",
       "<table border=\"1\" class=\"dataframe\">\n",
       "  <thead>\n",
       "    <tr style=\"text-align: right;\">\n",
       "      <th></th>\n",
       "      <th>Date</th>\n",
       "      <th>Location</th>\n",
       "      <th>MinTemp</th>\n",
       "      <th>MaxTemp</th>\n",
       "      <th>Rainfall</th>\n",
       "      <th>Evaporation</th>\n",
       "      <th>Sunshine</th>\n",
       "      <th>WindGustDir</th>\n",
       "      <th>WindGustSpeed</th>\n",
       "      <th>WindDir9am</th>\n",
       "      <th>...</th>\n",
       "      <th>Humidity9am</th>\n",
       "      <th>Humidity3pm</th>\n",
       "      <th>Pressure9am</th>\n",
       "      <th>Pressure3pm</th>\n",
       "      <th>Cloud9am</th>\n",
       "      <th>Cloud3pm</th>\n",
       "      <th>Temp9am</th>\n",
       "      <th>Temp3pm</th>\n",
       "      <th>RainToday</th>\n",
       "      <th>RainTomorrow</th>\n",
       "    </tr>\n",
       "  </thead>\n",
       "  <tbody>\n",
       "    <tr>\n",
       "      <th>0</th>\n",
       "      <td>2008-12-01</td>\n",
       "      <td>Albury</td>\n",
       "      <td>13.4</td>\n",
       "      <td>22.9</td>\n",
       "      <td>0.6</td>\n",
       "      <td>NaN</td>\n",
       "      <td>NaN</td>\n",
       "      <td>W</td>\n",
       "      <td>44.0</td>\n",
       "      <td>W</td>\n",
       "      <td>...</td>\n",
       "      <td>71.0</td>\n",
       "      <td>22.0</td>\n",
       "      <td>1007.7</td>\n",
       "      <td>1007.1</td>\n",
       "      <td>8.0</td>\n",
       "      <td>NaN</td>\n",
       "      <td>16.9</td>\n",
       "      <td>21.8</td>\n",
       "      <td>No</td>\n",
       "      <td>No</td>\n",
       "    </tr>\n",
       "    <tr>\n",
       "      <th>1</th>\n",
       "      <td>2008-12-02</td>\n",
       "      <td>Albury</td>\n",
       "      <td>7.4</td>\n",
       "      <td>25.1</td>\n",
       "      <td>0.0</td>\n",
       "      <td>NaN</td>\n",
       "      <td>NaN</td>\n",
       "      <td>WNW</td>\n",
       "      <td>44.0</td>\n",
       "      <td>NNW</td>\n",
       "      <td>...</td>\n",
       "      <td>44.0</td>\n",
       "      <td>25.0</td>\n",
       "      <td>1010.6</td>\n",
       "      <td>1007.8</td>\n",
       "      <td>NaN</td>\n",
       "      <td>NaN</td>\n",
       "      <td>17.2</td>\n",
       "      <td>24.3</td>\n",
       "      <td>No</td>\n",
       "      <td>No</td>\n",
       "    </tr>\n",
       "    <tr>\n",
       "      <th>2</th>\n",
       "      <td>2008-12-03</td>\n",
       "      <td>Albury</td>\n",
       "      <td>12.9</td>\n",
       "      <td>25.7</td>\n",
       "      <td>0.0</td>\n",
       "      <td>NaN</td>\n",
       "      <td>NaN</td>\n",
       "      <td>WSW</td>\n",
       "      <td>46.0</td>\n",
       "      <td>W</td>\n",
       "      <td>...</td>\n",
       "      <td>38.0</td>\n",
       "      <td>30.0</td>\n",
       "      <td>1007.6</td>\n",
       "      <td>1008.7</td>\n",
       "      <td>NaN</td>\n",
       "      <td>2.0</td>\n",
       "      <td>21.0</td>\n",
       "      <td>23.2</td>\n",
       "      <td>No</td>\n",
       "      <td>No</td>\n",
       "    </tr>\n",
       "    <tr>\n",
       "      <th>3</th>\n",
       "      <td>2008-12-04</td>\n",
       "      <td>Albury</td>\n",
       "      <td>9.2</td>\n",
       "      <td>28.0</td>\n",
       "      <td>0.0</td>\n",
       "      <td>NaN</td>\n",
       "      <td>NaN</td>\n",
       "      <td>NE</td>\n",
       "      <td>24.0</td>\n",
       "      <td>SE</td>\n",
       "      <td>...</td>\n",
       "      <td>45.0</td>\n",
       "      <td>16.0</td>\n",
       "      <td>1017.6</td>\n",
       "      <td>1012.8</td>\n",
       "      <td>NaN</td>\n",
       "      <td>NaN</td>\n",
       "      <td>18.1</td>\n",
       "      <td>26.5</td>\n",
       "      <td>No</td>\n",
       "      <td>No</td>\n",
       "    </tr>\n",
       "    <tr>\n",
       "      <th>4</th>\n",
       "      <td>2008-12-05</td>\n",
       "      <td>Albury</td>\n",
       "      <td>17.5</td>\n",
       "      <td>32.3</td>\n",
       "      <td>1.0</td>\n",
       "      <td>NaN</td>\n",
       "      <td>NaN</td>\n",
       "      <td>W</td>\n",
       "      <td>41.0</td>\n",
       "      <td>ENE</td>\n",
       "      <td>...</td>\n",
       "      <td>82.0</td>\n",
       "      <td>33.0</td>\n",
       "      <td>1010.8</td>\n",
       "      <td>1006.0</td>\n",
       "      <td>7.0</td>\n",
       "      <td>8.0</td>\n",
       "      <td>17.8</td>\n",
       "      <td>29.7</td>\n",
       "      <td>No</td>\n",
       "      <td>No</td>\n",
       "    </tr>\n",
       "    <tr>\n",
       "      <th>...</th>\n",
       "      <td>...</td>\n",
       "      <td>...</td>\n",
       "      <td>...</td>\n",
       "      <td>...</td>\n",
       "      <td>...</td>\n",
       "      <td>...</td>\n",
       "      <td>...</td>\n",
       "      <td>...</td>\n",
       "      <td>...</td>\n",
       "      <td>...</td>\n",
       "      <td>...</td>\n",
       "      <td>...</td>\n",
       "      <td>...</td>\n",
       "      <td>...</td>\n",
       "      <td>...</td>\n",
       "      <td>...</td>\n",
       "      <td>...</td>\n",
       "      <td>...</td>\n",
       "      <td>...</td>\n",
       "      <td>...</td>\n",
       "      <td>...</td>\n",
       "    </tr>\n",
       "    <tr>\n",
       "      <th>145455</th>\n",
       "      <td>2017-06-21</td>\n",
       "      <td>Uluru</td>\n",
       "      <td>2.8</td>\n",
       "      <td>23.4</td>\n",
       "      <td>0.0</td>\n",
       "      <td>NaN</td>\n",
       "      <td>NaN</td>\n",
       "      <td>E</td>\n",
       "      <td>31.0</td>\n",
       "      <td>SE</td>\n",
       "      <td>...</td>\n",
       "      <td>51.0</td>\n",
       "      <td>24.0</td>\n",
       "      <td>1024.6</td>\n",
       "      <td>1020.3</td>\n",
       "      <td>NaN</td>\n",
       "      <td>NaN</td>\n",
       "      <td>10.1</td>\n",
       "      <td>22.4</td>\n",
       "      <td>No</td>\n",
       "      <td>No</td>\n",
       "    </tr>\n",
       "    <tr>\n",
       "      <th>145456</th>\n",
       "      <td>2017-06-22</td>\n",
       "      <td>Uluru</td>\n",
       "      <td>3.6</td>\n",
       "      <td>25.3</td>\n",
       "      <td>0.0</td>\n",
       "      <td>NaN</td>\n",
       "      <td>NaN</td>\n",
       "      <td>NNW</td>\n",
       "      <td>22.0</td>\n",
       "      <td>SE</td>\n",
       "      <td>...</td>\n",
       "      <td>56.0</td>\n",
       "      <td>21.0</td>\n",
       "      <td>1023.5</td>\n",
       "      <td>1019.1</td>\n",
       "      <td>NaN</td>\n",
       "      <td>NaN</td>\n",
       "      <td>10.9</td>\n",
       "      <td>24.5</td>\n",
       "      <td>No</td>\n",
       "      <td>No</td>\n",
       "    </tr>\n",
       "    <tr>\n",
       "      <th>145457</th>\n",
       "      <td>2017-06-23</td>\n",
       "      <td>Uluru</td>\n",
       "      <td>5.4</td>\n",
       "      <td>26.9</td>\n",
       "      <td>0.0</td>\n",
       "      <td>NaN</td>\n",
       "      <td>NaN</td>\n",
       "      <td>N</td>\n",
       "      <td>37.0</td>\n",
       "      <td>SE</td>\n",
       "      <td>...</td>\n",
       "      <td>53.0</td>\n",
       "      <td>24.0</td>\n",
       "      <td>1021.0</td>\n",
       "      <td>1016.8</td>\n",
       "      <td>NaN</td>\n",
       "      <td>NaN</td>\n",
       "      <td>12.5</td>\n",
       "      <td>26.1</td>\n",
       "      <td>No</td>\n",
       "      <td>No</td>\n",
       "    </tr>\n",
       "    <tr>\n",
       "      <th>145458</th>\n",
       "      <td>2017-06-24</td>\n",
       "      <td>Uluru</td>\n",
       "      <td>7.8</td>\n",
       "      <td>27.0</td>\n",
       "      <td>0.0</td>\n",
       "      <td>NaN</td>\n",
       "      <td>NaN</td>\n",
       "      <td>SE</td>\n",
       "      <td>28.0</td>\n",
       "      <td>SSE</td>\n",
       "      <td>...</td>\n",
       "      <td>51.0</td>\n",
       "      <td>24.0</td>\n",
       "      <td>1019.4</td>\n",
       "      <td>1016.5</td>\n",
       "      <td>3.0</td>\n",
       "      <td>2.0</td>\n",
       "      <td>15.1</td>\n",
       "      <td>26.0</td>\n",
       "      <td>No</td>\n",
       "      <td>No</td>\n",
       "    </tr>\n",
       "    <tr>\n",
       "      <th>145459</th>\n",
       "      <td>2017-06-25</td>\n",
       "      <td>Uluru</td>\n",
       "      <td>14.9</td>\n",
       "      <td>NaN</td>\n",
       "      <td>0.0</td>\n",
       "      <td>NaN</td>\n",
       "      <td>NaN</td>\n",
       "      <td>NaN</td>\n",
       "      <td>NaN</td>\n",
       "      <td>ESE</td>\n",
       "      <td>...</td>\n",
       "      <td>62.0</td>\n",
       "      <td>36.0</td>\n",
       "      <td>1020.2</td>\n",
       "      <td>1017.9</td>\n",
       "      <td>8.0</td>\n",
       "      <td>8.0</td>\n",
       "      <td>15.0</td>\n",
       "      <td>20.9</td>\n",
       "      <td>No</td>\n",
       "      <td>NaN</td>\n",
       "    </tr>\n",
       "  </tbody>\n",
       "</table>\n",
       "<p>145460 rows × 23 columns</p>\n",
       "</div>"
      ],
      "text/plain": [
       "              Date Location  MinTemp  MaxTemp  Rainfall  Evaporation  \\\n",
       "0       2008-12-01   Albury     13.4     22.9       0.6          NaN   \n",
       "1       2008-12-02   Albury      7.4     25.1       0.0          NaN   \n",
       "2       2008-12-03   Albury     12.9     25.7       0.0          NaN   \n",
       "3       2008-12-04   Albury      9.2     28.0       0.0          NaN   \n",
       "4       2008-12-05   Albury     17.5     32.3       1.0          NaN   \n",
       "...            ...      ...      ...      ...       ...          ...   \n",
       "145455  2017-06-21    Uluru      2.8     23.4       0.0          NaN   \n",
       "145456  2017-06-22    Uluru      3.6     25.3       0.0          NaN   \n",
       "145457  2017-06-23    Uluru      5.4     26.9       0.0          NaN   \n",
       "145458  2017-06-24    Uluru      7.8     27.0       0.0          NaN   \n",
       "145459  2017-06-25    Uluru     14.9      NaN       0.0          NaN   \n",
       "\n",
       "        Sunshine WindGustDir  WindGustSpeed WindDir9am  ... Humidity9am  \\\n",
       "0            NaN           W           44.0          W  ...        71.0   \n",
       "1            NaN         WNW           44.0        NNW  ...        44.0   \n",
       "2            NaN         WSW           46.0          W  ...        38.0   \n",
       "3            NaN          NE           24.0         SE  ...        45.0   \n",
       "4            NaN           W           41.0        ENE  ...        82.0   \n",
       "...          ...         ...            ...        ...  ...         ...   \n",
       "145455       NaN           E           31.0         SE  ...        51.0   \n",
       "145456       NaN         NNW           22.0         SE  ...        56.0   \n",
       "145457       NaN           N           37.0         SE  ...        53.0   \n",
       "145458       NaN          SE           28.0        SSE  ...        51.0   \n",
       "145459       NaN         NaN            NaN        ESE  ...        62.0   \n",
       "\n",
       "        Humidity3pm  Pressure9am  Pressure3pm  Cloud9am  Cloud3pm  Temp9am  \\\n",
       "0              22.0       1007.7       1007.1       8.0       NaN     16.9   \n",
       "1              25.0       1010.6       1007.8       NaN       NaN     17.2   \n",
       "2              30.0       1007.6       1008.7       NaN       2.0     21.0   \n",
       "3              16.0       1017.6       1012.8       NaN       NaN     18.1   \n",
       "4              33.0       1010.8       1006.0       7.0       8.0     17.8   \n",
       "...             ...          ...          ...       ...       ...      ...   \n",
       "145455         24.0       1024.6       1020.3       NaN       NaN     10.1   \n",
       "145456         21.0       1023.5       1019.1       NaN       NaN     10.9   \n",
       "145457         24.0       1021.0       1016.8       NaN       NaN     12.5   \n",
       "145458         24.0       1019.4       1016.5       3.0       2.0     15.1   \n",
       "145459         36.0       1020.2       1017.9       8.0       8.0     15.0   \n",
       "\n",
       "        Temp3pm  RainToday  RainTomorrow  \n",
       "0          21.8         No            No  \n",
       "1          24.3         No            No  \n",
       "2          23.2         No            No  \n",
       "3          26.5         No            No  \n",
       "4          29.7         No            No  \n",
       "...         ...        ...           ...  \n",
       "145455     22.4         No            No  \n",
       "145456     24.5         No            No  \n",
       "145457     26.1         No            No  \n",
       "145458     26.0         No            No  \n",
       "145459     20.9         No           NaN  \n",
       "\n",
       "[145460 rows x 23 columns]"
      ]
     },
     "execution_count": 101,
     "metadata": {},
     "output_type": "execute_result"
    }
   ],
   "source": [
    "data"
   ]
  },
  {
   "cell_type": "code",
   "execution_count": 103,
   "id": "independent-folks",
   "metadata": {},
   "outputs": [
    {
     "name": "stdout",
     "output_type": "stream",
     "text": [
      "<class 'pandas.core.frame.DataFrame'>\n",
      "RangeIndex: 145460 entries, 0 to 145459\n",
      "Data columns (total 23 columns):\n",
      " #   Column         Non-Null Count   Dtype  \n",
      "---  ------         --------------   -----  \n",
      " 0   Date           145460 non-null  object \n",
      " 1   Location       145460 non-null  object \n",
      " 2   MinTemp        143975 non-null  float64\n",
      " 3   MaxTemp        144199 non-null  float64\n",
      " 4   Rainfall       142199 non-null  float64\n",
      " 5   Evaporation    82670 non-null   float64\n",
      " 6   Sunshine       75625 non-null   float64\n",
      " 7   WindGustDir    135134 non-null  object \n",
      " 8   WindGustSpeed  135197 non-null  float64\n",
      " 9   WindDir9am     134894 non-null  object \n",
      " 10  WindDir3pm     141232 non-null  object \n",
      " 11  WindSpeed9am   143693 non-null  float64\n",
      " 12  WindSpeed3pm   142398 non-null  float64\n",
      " 13  Humidity9am    142806 non-null  float64\n",
      " 14  Humidity3pm    140953 non-null  float64\n",
      " 15  Pressure9am    130395 non-null  float64\n",
      " 16  Pressure3pm    130432 non-null  float64\n",
      " 17  Cloud9am       89572 non-null   float64\n",
      " 18  Cloud3pm       86102 non-null   float64\n",
      " 19  Temp9am        143693 non-null  float64\n",
      " 20  Temp3pm        141851 non-null  float64\n",
      " 21  RainToday      142199 non-null  object \n",
      " 22  RainTomorrow   142193 non-null  object \n",
      "dtypes: float64(16), object(7)\n",
      "memory usage: 25.5+ MB\n"
     ]
    }
   ],
   "source": [
    "data.info()"
   ]
  },
  {
   "cell_type": "code",
   "execution_count": 104,
   "id": "ordered-australia",
   "metadata": {},
   "outputs": [
    {
     "data": {
      "text/plain": [
       "No     110316\n",
       "Yes     31877\n",
       "Name: RainTomorrow, dtype: int64"
      ]
     },
     "execution_count": 104,
     "metadata": {},
     "output_type": "execute_result"
    }
   ],
   "source": [
    "data['RainTomorrow'].value_counts()"
   ]
  },
  {
   "cell_type": "code",
   "execution_count": 105,
   "id": "sustainable-graham",
   "metadata": {},
   "outputs": [
    {
     "data": {
      "text/plain": [
       "False    142193\n",
       "True       3267\n",
       "Name: RainTomorrow, dtype: int64"
      ]
     },
     "execution_count": 105,
     "metadata": {},
     "output_type": "execute_result"
    }
   ],
   "source": [
    "data['RainTomorrow'].isna().value_counts()"
   ]
  },
  {
   "cell_type": "markdown",
   "id": "unexpected-custom",
   "metadata": {},
   "source": [
    "Dataset is imbalanced and there are several missing values both in the X features and between the target values. We will evaluate the model in the following different dataset configurations:\n",
    "- Without the examples relative to the target missing values, with the X missing values handled (imputed) by xgboost;\n",
    "- With all the missing values imputed by kNN Imputer from sklearn.\n",
    "\n",
    "We will also handle the imbalance by:\n",
    "- Stratifying;\n",
    "- Ensembling the resampled dataset.\n",
    "\n",
    "Since the presence of the imbalance, we will show also AUC scores along with others."
   ]
  },
  {
   "cell_type": "code",
   "execution_count": 106,
   "id": "simple-sapphire",
   "metadata": {},
   "outputs": [],
   "source": [
    "missing = data.isna().sum().sort_values()\n",
    "missing_ratio = data.isna().sum()/data.isna().count()\n",
    "missing_matrix = pd.concat([missing, missing_ratio], axis=1)"
   ]
  },
  {
   "cell_type": "code",
   "execution_count": 107,
   "id": "italic-education",
   "metadata": {},
   "outputs": [],
   "source": [
    "#Drop the features with more than one third of data missing\n",
    "\n",
    "drop_indexes = missing_matrix[missing_matrix[1] > 0.33].index"
   ]
  },
  {
   "cell_type": "code",
   "execution_count": 108,
   "id": "authorized-montreal",
   "metadata": {},
   "outputs": [],
   "source": [
    "processed_data = data.drop(drop_indexes, axis=1)"
   ]
  },
  {
   "cell_type": "code",
   "execution_count": 109,
   "id": "mature-formation",
   "metadata": {},
   "outputs": [],
   "source": [
    "#Select only data with target values not missing\n",
    "X_y = processed_data[processed_data['RainTomorrow'].isna() == False]"
   ]
  },
  {
   "cell_type": "markdown",
   "id": "variable-darwin",
   "metadata": {},
   "source": [
    "Testing with chi squared and anova to see if some features can be discarded"
   ]
  },
  {
   "cell_type": "code",
   "execution_count": 110,
   "id": "distributed-miller",
   "metadata": {},
   "outputs": [],
   "source": [
    "cat = X_y[['Location','WindGustDir','WindDir9am','WindDir3pm','RainToday','RainTomorrow']]"
   ]
  },
  {
   "cell_type": "code",
   "execution_count": 111,
   "id": "resistant-venice",
   "metadata": {},
   "outputs": [],
   "source": [
    "from sklearn.feature_selection import chi2, f_classif"
   ]
  },
  {
   "cell_type": "code",
   "execution_count": 112,
   "id": "exposed-insider",
   "metadata": {},
   "outputs": [
    {
     "name": "stderr",
     "output_type": "stream",
     "text": [
      "C:\\Users\\clzin\\miniconda3\\envs\\DSA\\lib\\site-packages\\ipykernel_launcher.py:1: SettingWithCopyWarning: \n",
      "A value is trying to be set on a copy of a slice from a DataFrame\n",
      "\n",
      "See the caveats in the documentation: https://pandas.pydata.org/pandas-docs/stable/user_guide/indexing.html#returning-a-view-versus-a-copy\n",
      "  \"\"\"Entry point for launching an IPython kernel.\n"
     ]
    }
   ],
   "source": [
    "cat.dropna(inplace=True)"
   ]
  },
  {
   "cell_type": "code",
   "execution_count": 113,
   "id": "existing-fraud",
   "metadata": {},
   "outputs": [],
   "source": [
    "from sklearn.preprocessing import LabelEncoder\n",
    "labelencoder = LabelEncoder()\n",
    "cat = cat.apply(LabelEncoder().fit_transform)"
   ]
  },
  {
   "cell_type": "code",
   "execution_count": 114,
   "id": "technological-enhancement",
   "metadata": {},
   "outputs": [],
   "source": [
    "chi_scores = chi2(cat.drop(['RainTomorrow'], axis=1), cat['RainTomorrow'])"
   ]
  },
  {
   "cell_type": "code",
   "execution_count": 115,
   "id": "tamil-aerospace",
   "metadata": {},
   "outputs": [],
   "source": [
    "cont = data.drop(['Location','WindGustDir','WindDir9am','WindDir3pm','RainToday','RainTomorrow'], axis=1)\n",
    "cont['RainTomorrow'] = cat['RainTomorrow']"
   ]
  },
  {
   "cell_type": "code",
   "execution_count": 116,
   "id": "consistent-congress",
   "metadata": {},
   "outputs": [],
   "source": [
    "cont.dropna(inplace=True)\n",
    "cont.drop('Date', axis=1, inplace=True)"
   ]
  },
  {
   "cell_type": "code",
   "execution_count": 117,
   "id": "brown-oliver",
   "metadata": {},
   "outputs": [],
   "source": [
    "anova_scores = f_classif(cont.drop(['RainTomorrow'], axis=1), cont['RainTomorrow'])"
   ]
  },
  {
   "cell_type": "code",
   "execution_count": 118,
   "id": "unlike-drill",
   "metadata": {},
   "outputs": [
    {
     "data": {
      "image/png": "[encoded data removed]",
      "text/plain": [
       "<Figure size 432x288 with 1 Axes>"
      ]
     },
     "metadata": {
      "needs_background": "light"
     },
     "output_type": "display_data"
    }
   ],
   "source": [
    "p_values = pd.Series(chi_scores[1],index = cat.columns[0:-1])\n",
    "p_values.plot.bar();"
   ]
  },
  {
   "cell_type": "code",
   "execution_count": 119,
   "id": "grand-cattle",
   "metadata": {},
   "outputs": [
    {
     "data": {
      "image/png": "[encoded data removed]",
      "text/plain": [
       "<Figure size 432x288 with 1 Axes>"
      ]
     },
     "metadata": {
      "needs_background": "light"
     },
     "output_type": "display_data"
    }
   ],
   "source": [
    "f_p_values = pd.Series(anova_scores[1],index = cont.columns[0:-1])\n",
    "f_p_values.plot.bar();"
   ]
  },
  {
   "cell_type": "markdown",
   "id": "focused-bowling",
   "metadata": {},
   "source": [
    "The test's p-values indicate that location must be discarded since its presence it's not statistically significant if we choose alpha = 0.05. Despite of this, location can be important since in certain areas some conditions could give rain while in other not. Furthermore alpha can be choosen higher since Type I errors do not lead to dramatic effects in this case (e.g. counting location when it's not needed). For the sake of curiosity, for once, we will produce also the results relative to not taking location into account. "
   ]
  },
  {
   "cell_type": "code",
   "execution_count": 120,
   "id": "involved-intensity",
   "metadata": {},
   "outputs": [],
   "source": [
    "# Encoding and leaving NaN values\n",
    "\n",
    "from Custom_Class_Func import MultiColumnLabelEncoder"
   ]
  },
  {
   "cell_type": "code",
   "execution_count": 121,
   "id": "deadly-ivory",
   "metadata": {},
   "outputs": [],
   "source": [
    "# we will mask to keep NaN's and replace after encoding\n",
    "original = X_y\n",
    "mask = X_y.isnull()"
   ]
  },
  {
   "cell_type": "code",
   "execution_count": 122,
   "id": "daily-disco",
   "metadata": {},
   "outputs": [],
   "source": [
    "X_y = MultiColumnLabelEncoder(columns=['Location','WindGustDir','WindDir9am',\n",
    "                                'WindDir3pm','RainToday','RainTomorrow']).fit_transform(X_y.astype(str))"
   ]
  },
  {
   "cell_type": "code",
   "execution_count": 123,
   "id": "concerned-landing",
   "metadata": {},
   "outputs": [],
   "source": [
    "X_y = X_y.where(~mask, original).drop(['Date'],axis=1)"
   ]
  },
  {
   "cell_type": "code",
   "execution_count": 124,
   "id": "identical-gathering",
   "metadata": {},
   "outputs": [
    {
     "data": {
      "text/plain": [
       "True"
      ]
     },
     "execution_count": 124,
     "metadata": {},
     "output_type": "execute_result"
    }
   ],
   "source": [
    "X_y.isna().values.any()  #checking if masking was successful"
   ]
  },
  {
   "cell_type": "code",
   "execution_count": 125,
   "id": "designing-rebecca",
   "metadata": {},
   "outputs": [],
   "source": [
    "X_y = X_y.astype(float)\n",
    "X = X_y.drop('RainTomorrow', axis=1)\n",
    "y = X_y['RainTomorrow']"
   ]
  },
  {
   "cell_type": "markdown",
   "id": "proved-latex",
   "metadata": {},
   "source": [
    "# No Imputing"
   ]
  },
  {
   "cell_type": "markdown",
   "id": "unique-range",
   "metadata": {},
   "source": [
    "## Stratifying"
   ]
  },
  {
   "cell_type": "code",
   "execution_count": 126,
   "id": "metropolitan-trial",
   "metadata": {},
   "outputs": [],
   "source": [
    "from sklearn.model_selection import train_test_split"
   ]
  },
  {
   "cell_type": "code",
   "execution_count": 127,
   "id": "solid-acrobat",
   "metadata": {},
   "outputs": [],
   "source": [
    "X_train, X_test, y_train, y_test = train_test_split(X, y, test_size=0.25, shuffle=True, stratify=y )"
   ]
  },
  {
   "cell_type": "code",
   "execution_count": 128,
   "id": "polyphonic-prerequisite",
   "metadata": {},
   "outputs": [],
   "source": [
    "import xgboost as xgb"
   ]
  },
  {
   "cell_type": "code",
   "execution_count": 129,
   "id": "intended-candle",
   "metadata": {},
   "outputs": [
    {
     "data": {
      "text/plain": [
       "XGBClassifier(n_estimators=10000, n_jobs=10, use_label_encoder=False)"
      ]
     },
     "execution_count": 129,
     "metadata": {},
     "output_type": "execute_result"
    }
   ],
   "source": [
    "# we will use n_jobs to parallelize computation among different threads \n",
    "# (in my pc max 12, but empiric evidence shows best with 10)\n",
    "# we also will use early stopping to avoid overfitting\n",
    "\n",
    "model = xgb.XGBClassifier(objective='binary:logistic', use_label_encoder=False, n_estimators = 10000, n_jobs=10)\n",
    "model.fit(X_train, y_train, verbose=False,\n",
    "            early_stopping_rounds=10, eval_metric='auc', eval_set=[(X_test, y_test)])"
   ]
  },
  {
   "cell_type": "code",
   "execution_count": 133,
   "id": "reasonable-longer",
   "metadata": {},
   "outputs": [
    {
     "name": "stdout",
     "output_type": "stream",
     "text": [
      "[[0.73858618 0.03724437]\n",
      " [0.10385665 0.12031281]] \n",
      "\n",
      "Area under ROC curve: 0.74434946476334\n",
      "Precision: 0.7636136404213534\n",
      "Recall: 0.5367047308319739\n"
     ]
    },
    {
     "data": {
      "image/png": "[encoded data removed]",
      "text/plain": [
       "<Figure size 432x288 with 1 Axes>"
      ]
     },
     "metadata": {
      "needs_background": "light"
     },
     "output_type": "display_data"
    }
   ],
   "source": [
    "y_pred = model.predict(X_test)\n",
    "\n",
    "results = pd.Series({'AUC_ROC' : roc_auc_score(y_test, y_pred), \n",
    "                     'Precision' : precision_score(y_test, y_pred),\n",
    "                     'Recall' : recall_score(y_test, y_pred)},\n",
    "                      name='No_imput_Stratify')\n",
    "                                \n",
    "print(confusion_matrix(y_test, y_pred)/y_pred.shape, '\\n')\n",
    "print('Area under ROC curve:', results['AUC_ROC'])\n",
    "print('Precision:',results['Precision'])\n",
    "print('Recall:', results['Recall'])\n",
    "plot_roc_curve(model, X_test, y_test);"
   ]
  },
  {
   "cell_type": "markdown",
   "id": "challenging-cooling",
   "metadata": {},
   "source": [
    "### Fine Tuning"
   ]
  },
  {
   "cell_type": "code",
   "execution_count": 132,
   "id": "conceptual-finger",
   "metadata": {},
   "outputs": [
    {
     "data": {
      "text/plain": [
       "array([nan, nan, nan])"
      ]
     },
     "execution_count": 132,
     "metadata": {},
     "output_type": "execute_result"
    }
   ],
   "source": [
    "tpr"
   ]
  },
  {
   "cell_type": "code",
   "execution_count": 33,
   "id": "moral-diamond",
   "metadata": {},
   "outputs": [],
   "source": [
    "from sklearn.model_selection import GridSearchCV "
   ]
  },
  {
   "cell_type": "code",
   "execution_count": 34,
   "id": "loose-injury",
   "metadata": {},
   "outputs": [],
   "source": [
    "#fine tuning, taking imbalance in account\n",
    "param_grid = {\n",
    "    'max_depth': [3, 4, 5],\n",
    "    'learning_rate': [0.1, 0.01, 0.05],\n",
    "    'gamma': [0, 0.25, 1.0],\n",
    "    'reg_lambda': [0, 1.0, 10.0],\n",
    "    'scale_pos_weight': [3, 5, 44] # as XGBoost recommends: sum(negative instances) / sum(positive instances)\n",
    "}\n"
   ]
  },
  {
   "cell_type": "code",
   "execution_count": 35,
   "id": "parliamentary-tobacco",
   "metadata": {},
   "outputs": [],
   "source": [
    "optimal_params = GridSearchCV(\n",
    "    estimator=xgb.XGBClassifier(objective='binary:logistic', n_estimators = 10000,\n",
    "                               subsample=0.9, colsample_bytree=0.5),\n",
    "    param_grid=param_grid,\n",
    "    scoring='roc_auc',\n",
    "    verbose=False,\n",
    "    n_jobs = 10,\n",
    "    cv = 3)"
   ]
  },
  {
   "cell_type": "code",
   "execution_count": 36,
   "id": "universal-morning",
   "metadata": {},
   "outputs": [
    {
     "name": "stdout",
     "output_type": "stream",
     "text": [
      "{'gamma': 0.25, 'learning_rate': 0.01, 'max_depth': 5, 'reg_lambda': 10.0, 'scale_pos_weight': 3}\n"
     ]
    }
   ],
   "source": [
    "optimal_params.fit(X_train, \n",
    "                   y_train, \n",
    "                   early_stopping_rounds=10,                \n",
    "                   eval_metric='auc',\n",
    "                   eval_set=[(X_test, y_test)],\n",
    "                   verbose=False)\n",
    "print(optimal_params.best_params_)"
   ]
  },
  {
   "cell_type": "code",
   "execution_count": 40,
   "id": "discrete-improvement",
   "metadata": {},
   "outputs": [],
   "source": [
    "# run again tuning with borderline params from before\n",
    "param_grid = {\n",
    "    'max_depth': [5],\n",
    "    'learning_rate': [0.05],\n",
    "    'gamma': [0.25],\n",
    "    'reg_lambda': [10.0],\n",
    "    'scale_pos_weight': [2,3] \n",
    "}\n"
   ]
  },
  {
   "cell_type": "code",
   "execution_count": 41,
   "id": "therapeutic-upper",
   "metadata": {},
   "outputs": [],
   "source": [
    "optimal_params = GridSearchCV(\n",
    "    estimator=xgb.XGBClassifier(objective='binary:logistic', n_estimators = 10000,\n",
    "                               subsample=0.9, colsample_bytree=0.5),\n",
    "    param_grid=param_grid,\n",
    "    scoring='roc_auc',\n",
    "    verbose=False,\n",
    "    n_jobs = 10,\n",
    "    cv = 3)"
   ]
  },
  {
   "cell_type": "code",
   "execution_count": 42,
   "id": "multiple-mounting",
   "metadata": {},
   "outputs": [
    {
     "name": "stdout",
     "output_type": "stream",
     "text": [
      "{'gamma': 0.25, 'learning_rate': 0.05, 'max_depth': 5, 'reg_lambda': 10.0, 'scale_pos_weight': 2}\n"
     ]
    }
   ],
   "source": [
    "optimal_params.fit(X_train, \n",
    "                   y_train, \n",
    "                   early_stopping_rounds=10,                \n",
    "                   eval_metric='auc',\n",
    "                   eval_set=[(X_test, y_test)],\n",
    "                   verbose=False)\n",
    "print(optimal_params.best_params_)"
   ]
  },
  {
   "cell_type": "code",
   "execution_count": 41,
   "id": "unexpected-plaintiff",
   "metadata": {},
   "outputs": [
    {
     "data": {
      "text/plain": [
       "XGBClassifier(gamma=0.25, learn_rate=0.05, max_depth=5, n_estimators=10000,\n",
       "              n_jobs=10, reg_lambda=10, scale_pos_weight=2)"
      ]
     },
     "execution_count": 41,
     "metadata": {},
     "output_type": "execute_result"
    }
   ],
   "source": [
    "# The previous params are confirmed\n",
    "model = xgb.XGBClassifier(objective='binary:logistic', gamma=0.25, learn_rate=0.05,\n",
    "                        max_depth=5, reg_lambda=10, scale_pos_weight=2, n_estimators=10000, n_jobs=10)\n",
    "model.fit(X_train, y_train, verbose=False,\n",
    "            early_stopping_rounds=10, eval_metric='auc', eval_set=[(X_test, y_test)])"
   ]
  },
  {
   "cell_type": "code",
   "execution_count": 42,
   "id": "applicable-attachment",
   "metadata": {},
   "outputs": [],
   "source": [
    "y_pred = model.predict(X_test)\n",
    "\n",
    "a = {'AUC_ROC' : roc_auc_score(y_test, y_pred), 'Precision' : precision_score(y_test, y_pred),\n",
    "        'Recall' : recall_score(y_test, y_pred)}\n",
    "\n",
    "results = pd.concat([results, pd.Series(a, name='No_imput_Stratify_optimized')], axis=1)"
   ]
  },
  {
   "cell_type": "code",
   "execution_count": 44,
   "id": "thermal-intelligence",
   "metadata": {},
   "outputs": [
    {
     "name": "stdout",
     "output_type": "stream",
     "text": [
      "[[0.6951813  0.08064924]\n",
      " [0.07271653 0.15145292]] \n",
      "\n",
      "Area under Roc curve: 0.7858329402977511\n",
      "Precision: 0.6525269664283118\n",
      "Recall: 0.675618019826829\n"
     ]
    },
    {
     "data": {
      "image/png": "[encoded data removed]",
      "text/plain": [
       "<Figure size 432x288 with 1 Axes>"
      ]
     },
     "metadata": {
      "needs_background": "light"
     },
     "output_type": "display_data"
    }
   ],
   "source": [
    "print(confusion_matrix(y_test, y_pred)/y_pred.shape, '\\n')\n",
    "print('Area under Roc curve:', a['AUC_ROC'])\n",
    "print('Precision:',a['Precision'])\n",
    "print('Recall:', a['Recall'])\n",
    "plot_roc_curve(model, X_test, y_test);"
   ]
  },
  {
   "cell_type": "markdown",
   "id": "cathedral-heart",
   "metadata": {},
   "source": [
    "## Ensembled resampling\n",
    "We will use **custom functions** to compute predictions."
   ]
  },
  {
   "cell_type": "code",
   "execution_count": 46,
   "id": "pediatric-advertiser",
   "metadata": {},
   "outputs": [],
   "source": [
    "from Custom_Class_Func import get_resampled_datasets, get_xgboost_ensemble_predictions, ensemble_xgboost_CV"
   ]
  },
  {
   "cell_type": "code",
   "execution_count": 47,
   "id": "induced-booth",
   "metadata": {},
   "outputs": [
    {
     "name": "stdout",
     "output_type": "stream",
     "text": [
      "[[0.58629299 0.18953513]\n",
      " [0.05963851 0.16453337]]\n",
      "Area under Roc curve: 0.7448301859292419\n",
      "Precision: 0.46469361406296555\n",
      "Recall: 0.7339607843137255\n",
      "\n",
      "\n",
      "[[0.56769112 0.208137  ]\n",
      " [0.05999015 0.16418173]]\n",
      "Area under Roc curve: 0.7320574753402243\n",
      "Precision: 0.440970910464677\n",
      "Recall: 0.7323921568627451\n",
      "\n",
      "\n",
      "[[0.62349673 0.15233139]\n",
      " [0.0665307  0.15764118]]\n",
      "Area under Roc curve: 0.7534344306366884\n",
      "Precision: 0.5085649461145775\n",
      "Recall: 0.7032156862745098\n",
      "\n",
      "\n",
      "[[0.56378789 0.21204023]\n",
      " [0.05000352 0.17416837]]\n",
      "Area under Roc curve: 0.7518164614166385\n",
      "Precision: 0.4509696804151871\n",
      "Recall: 0.7769411764705882\n",
      "\n",
      "\n",
      "[[0.67705074 0.09873071]\n",
      " [0.08185366 0.1423649 ]]\n",
      "Area under Roc curve: 0.7538359618839595\n",
      "Precision: 0.5904914685722619\n",
      "Recall: 0.6349380586482672\n",
      "\n",
      "\n",
      "Average scores: \n",
      "\n",
      "Area under Roc curve: 0.7471949030413505\n",
      "Precision: 0.4911381239259338\n",
      "Recall: 0.7162895725139672\n"
     ]
    }
   ],
   "source": [
    "a = ensemble_xgboost_CV(X_y, threads=10)"
   ]
  },
  {
   "cell_type": "code",
   "execution_count": 48,
   "id": "original-democrat",
   "metadata": {},
   "outputs": [],
   "source": [
    "results = pd.concat([results, pd.Series(a, name='No_imput_Ensembled')], axis=1)"
   ]
  },
  {
   "cell_type": "markdown",
   "id": "unexpected-pioneer",
   "metadata": {},
   "source": [
    "# kNN Imputer\n",
    "## Stratifying"
   ]
  },
  {
   "cell_type": "code",
   "execution_count": 45,
   "id": "matched-jacket",
   "metadata": {},
   "outputs": [],
   "source": [
    "# pick the dataset with missing values in target values\n",
    "X_y = processed_data"
   ]
  },
  {
   "cell_type": "code",
   "execution_count": 46,
   "id": "cubic-compression",
   "metadata": {},
   "outputs": [],
   "source": [
    "original = X_y\n",
    "mask = X_y.isnull()\n",
    "X_y = MultiColumnLabelEncoder(columns=['Location','WindGustDir','WindDir9am',\n",
    "                                'WindDir3pm','RainToday','RainTomorrow']).fit_transform(X_y.astype(str))\n",
    "X_y = X_y.where(~mask, original).drop(['Date'],axis=1)\n",
    "X_y = X_y.astype(float)"
   ]
  },
  {
   "cell_type": "code",
   "execution_count": 47,
   "id": "relative-demonstration",
   "metadata": {},
   "outputs": [],
   "source": [
    "from sklearn.impute import KNNImputer"
   ]
  },
  {
   "cell_type": "code",
   "execution_count": 49,
   "id": "related-freight",
   "metadata": {},
   "outputs": [],
   "source": [
    "imputer = KNNImputer(n_neighbors=4)\n",
    "imputed_dataset = imputer.fit_transform(X_y)"
   ]
  },
  {
   "cell_type": "code",
   "execution_count": 50,
   "id": "sized-classic",
   "metadata": {},
   "outputs": [],
   "source": [
    "columns = X_y.columns"
   ]
  },
  {
   "cell_type": "code",
   "execution_count": 51,
   "id": "amended-marina",
   "metadata": {},
   "outputs": [],
   "source": [
    "X_y = pd.DataFrame(imputed_dataset, columns=columns)"
   ]
  },
  {
   "cell_type": "code",
   "execution_count": 52,
   "id": "thermal-karaoke",
   "metadata": {},
   "outputs": [],
   "source": [
    "X = X_y.drop('RainTomorrow', axis=1)\n",
    "y = X_y['RainTomorrow']\n",
    "\n",
    "# Because imputer sometimes gives values between 1 and 0 and the majority of y values are 0:\n",
    "y = y.apply(lambda x: 0 if x <= 0.5 else 1)  "
   ]
  },
  {
   "cell_type": "code",
   "execution_count": 53,
   "id": "incorporate-strip",
   "metadata": {},
   "outputs": [],
   "source": [
    "X_train, X_test, y_train, y_test = train_test_split(X, y, test_size=0.25, shuffle=True, stratify=y )"
   ]
  },
  {
   "cell_type": "code",
   "execution_count": 54,
   "id": "formal-fundamental",
   "metadata": {},
   "outputs": [
    {
     "data": {
      "text/plain": [
       "XGBClassifier(n_estimators=10000, n_jobs=10, use_label_encoder=False)"
      ]
     },
     "execution_count": 54,
     "metadata": {},
     "output_type": "execute_result"
    }
   ],
   "source": [
    "model_1 = xgb.XGBClassifier(objective='binary:logistic', use_label_encoder=False, n_estimators = 10000, n_jobs=10)\n",
    "model_1.fit(X_train, y_train, verbose=False,\n",
    "            early_stopping_rounds=10, eval_metric='auc', eval_set=[(X_test, y_test)])"
   ]
  },
  {
   "cell_type": "code",
   "execution_count": 57,
   "id": "sized-drawing",
   "metadata": {},
   "outputs": [],
   "source": [
    "y_pred = model_1.predict(X_test)\n",
    "a = {'AUC_ROC' : roc_auc_score(y_test, y_pred), 'Precision' : precision_score(y_test, y_pred),\n",
    "        'Recall' : recall_score(y_test, y_pred)}\n",
    "\n",
    "results = pd.concat([results, pd.Series(a, name='kNNImput_Stratify')], axis=1)"
   ]
  },
  {
   "cell_type": "code",
   "execution_count": 58,
   "id": "visible-cookbook",
   "metadata": {},
   "outputs": [
    {
     "name": "stdout",
     "output_type": "stream",
     "text": [
      "[[0.74164719 0.03695861]\n",
      " [0.10699849 0.11439571]]\n",
      "Area under Roc curve: 0.7346191577117154\n",
      "Precision: 0.7558139534883721\n",
      "Recall: 0.5167059992547509\n"
     ]
    },
    {
     "data": {
      "image/png": "[encoded data removed]",
      "text/plain": [
       "<Figure size 432x288 with 1 Axes>"
      ]
     },
     "metadata": {
      "needs_background": "light"
     },
     "output_type": "display_data"
    }
   ],
   "source": [
    "print(confusion_matrix(y_test, y_pred)/y_pred.shape)\n",
    "print('Area under Roc curve:', roc_auc_score(y_test, y_pred))\n",
    "print('Precision:', precision_score(y_test, y_pred))\n",
    "print('Recall:', recall_score(y_test, y_pred))\n",
    "plot_roc_curve(model_1, X_test, y_test);"
   ]
  },
  {
   "cell_type": "markdown",
   "id": "virtual-establishment",
   "metadata": {},
   "source": [
    "### Fine Tuning"
   ]
  },
  {
   "cell_type": "code",
   "execution_count": 62,
   "id": "spoken-jenny",
   "metadata": {},
   "outputs": [],
   "source": [
    "param_grid = {\n",
    "    'max_depth': [5],\n",
    "    'learning_rate': [0.01, 0.05],\n",
    "    'gamma': [0, 0.25, 1.0],\n",
    "    'reg_lambda': [1.0, 10.0],\n",
    "    'scale_pos_weight': [2, 3] # as XGBoost recommends: sum(negative instances) / sum(positive instances)\n",
    "}"
   ]
  },
  {
   "cell_type": "code",
   "execution_count": 63,
   "id": "incident-sacramento",
   "metadata": {},
   "outputs": [],
   "source": [
    "optimal_params = GridSearchCV(\n",
    "    estimator=xgb.XGBClassifier(objective='binary:logistic', n_estimators = 10000,\n",
    "                               subsample=0.9, colsample_bytree=0.5),\n",
    "    param_grid=param_grid,\n",
    "    scoring='roc_auc',\n",
    "    verbose=False,\n",
    "    n_jobs = 10,\n",
    "    cv = 3)"
   ]
  },
  {
   "cell_type": "code",
   "execution_count": 64,
   "id": "final-heart",
   "metadata": {
    "scrolled": true
   },
   "outputs": [
    {
     "name": "stdout",
     "output_type": "stream",
     "text": [
      "{'gamma': 0.25, 'learning_rate': 0.05, 'max_depth': 5, 'reg_lambda': 10.0, 'scale_pos_weight': 2}\n"
     ]
    }
   ],
   "source": [
    "optimal_params.fit(X_train, \n",
    "                   y_train, \n",
    "                   early_stopping_rounds=10,                \n",
    "                   eval_metric='auc',\n",
    "                   eval_set=[(X_test, y_test)],\n",
    "                   verbose=False)\n",
    "print(optimal_params.best_params_)"
   ]
  },
  {
   "cell_type": "code",
   "execution_count": null,
   "id": "measured-basement",
   "metadata": {},
   "outputs": [],
   "source": [
    "# The previous params are confirmed\n",
    "model_1 = xgb.XGBClassifier(objective='binary:logistic', gamma=0.25, learn_rate=0.05,\n",
    "                        max_depth=5, reg_lambda=10, scale_pos_weight=2, n_estimators=10000, n_jobs=10)\n",
    "model_1.fit(X_train, y_train, verbose=False,\n",
    "            early_stopping_rounds=10, eval_metric='auc', eval_set=[(X_test, y_test)])"
   ]
  },
  {
   "cell_type": "code",
   "execution_count": 72,
   "id": "informed-stylus",
   "metadata": {},
   "outputs": [],
   "source": [
    "y_pred = model.predict(X_test)\n",
    "a = {'AUC_ROC' : roc_auc_score(y_test, y_pred), 'Precision' : precision_score(y_test, y_pred),\n",
    "        'Recall' : recall_score(y_test, y_pred)}\n",
    "\n",
    "results = pd.concat([results, pd.Series(a, name='kNNImput_Stratify_optimized')], axis=1)"
   ]
  },
  {
   "cell_type": "code",
   "execution_count": null,
   "id": "excellent-microphone",
   "metadata": {},
   "outputs": [],
   "source": [
    "print(confusion_matrix(y_test, y_pred)/y_pred.shape)\n",
    "print('Area under Roc curve:', roc_auc_score(y_test, y_pred))\n",
    "print('Precision:', precision_score(y_test, y_pred))\n",
    "print('Recall:', recall_score(y_test, y_pred))\n",
    "plot_roc_curve(model, X_test, y_test);"
   ]
  },
  {
   "cell_type": "markdown",
   "id": "pretty-forum",
   "metadata": {},
   "source": [
    "## Ensambled Resampling"
   ]
  },
  {
   "cell_type": "code",
   "execution_count": 74,
   "id": "arctic-holocaust",
   "metadata": {},
   "outputs": [
    {
     "name": "stdout",
     "output_type": "stream",
     "text": [
      "[[0.61753959 0.15994432]\n",
      " [0.06427701 0.15823908]]\n",
      "Area under Roc curve: 0.7527075075712808\n",
      "Precision: 0.497320354369463\n",
      "Recall: 0.7111354394745073\n",
      "\n",
      "\n",
      "[[0.56686967 0.21061423]\n",
      " [0.05554202 0.16697407]]\n",
      "Area under Roc curve: 0.7397494548659622\n",
      "Precision: 0.4422119815668203\n",
      "Recall: 0.7503909915545824\n",
      "\n",
      "\n",
      "[[0.61625196 0.16123195]\n",
      " [0.06420741 0.15830868]]\n",
      "Area under Roc curve: 0.7520358302483485\n",
      "Precision: 0.49542583315181876\n",
      "Recall: 0.7114482327181733\n",
      "\n",
      "\n",
      "[[0.5683313  0.2091526 ]\n",
      " [0.04691143 0.17560466]]\n",
      "Area under Roc curve: 0.7600826118024433\n",
      "Precision: 0.4564037626628075\n",
      "Recall: 0.7891773537691585\n",
      "\n",
      "\n",
      "[[0.67200223 0.10547011]\n",
      " [0.07714524 0.14538242]]\n",
      "Area under Roc curve: 0.758832604061974\n",
      "Precision: 0.5795533361076433\n",
      "Recall: 0.653322908522283\n",
      "\n",
      "\n",
      "Average scores: \n",
      "\n",
      "Area under Roc curve: 0.7526816017100018\n",
      "Precision: 0.49418305357171055\n",
      "Recall: 0.723094985207741\n"
     ]
    }
   ],
   "source": [
    "a = ensemble_xgboost_CV(X_y, threads=10)"
   ]
  },
  {
   "cell_type": "code",
   "execution_count": 75,
   "id": "thrown-guatemala",
   "metadata": {},
   "outputs": [],
   "source": [
    "results = pd.concat([results, pd.Series(a, name='kNNImput_Ensembled')], axis=1)"
   ]
  },
  {
   "cell_type": "markdown",
   "id": "laden-tactics",
   "metadata": {},
   "source": [
    "# Confrontation"
   ]
  },
  {
   "cell_type": "code",
   "execution_count": 78,
   "id": "complimentary-assurance",
   "metadata": {},
   "outputs": [
    {
     "data": {
      "text/html": [
       "<div>\n",
       "<style scoped>\n",
       "    .dataframe tbody tr th:only-of-type {\n",
       "        vertical-align: middle;\n",
       "    }\n",
       "\n",
       "    .dataframe tbody tr th {\n",
       "        vertical-align: top;\n",
       "    }\n",
       "\n",
       "    .dataframe thead th {\n",
       "        text-align: right;\n",
       "    }\n",
       "</style>\n",
       "<table border=\"1\" class=\"dataframe\">\n",
       "  <thead>\n",
       "    <tr style=\"text-align: right;\">\n",
       "      <th></th>\n",
       "      <th>No_imput_Stratify</th>\n",
       "      <th>No_imput_Stratify_optimized</th>\n",
       "      <th>No_imput_Ensembled</th>\n",
       "      <th>kNNImput_Stratify</th>\n",
       "      <th>kNNImput_Stratify_optimized</th>\n",
       "      <th>kNNImput_Ensembled</th>\n",
       "    </tr>\n",
       "  </thead>\n",
       "  <tbody>\n",
       "    <tr>\n",
       "      <th>AUC_ROC</th>\n",
       "      <td>0.745272</td>\n",
       "      <td>0.790064</td>\n",
       "      <td>0.747195</td>\n",
       "      <td>0.740462</td>\n",
       "      <td>0.800768</td>\n",
       "      <td>0.752682</td>\n",
       "    </tr>\n",
       "    <tr>\n",
       "      <th>Precision</th>\n",
       "      <td>0.764109</td>\n",
       "      <td>0.661304</td>\n",
       "      <td>0.491138</td>\n",
       "      <td>0.752245</td>\n",
       "      <td>0.668485</td>\n",
       "      <td>0.494183</td>\n",
       "    </tr>\n",
       "    <tr>\n",
       "      <th>Recall</th>\n",
       "      <td>0.538587</td>\n",
       "      <td>0.680888</td>\n",
       "      <td>0.716290</td>\n",
       "      <td>0.530617</td>\n",
       "      <td>0.700286</td>\n",
       "      <td>0.723095</td>\n",
       "    </tr>\n",
       "  </tbody>\n",
       "</table>\n",
       "</div>"
      ],
      "text/plain": [
       "           No_imput_Stratify  No_imput_Stratify_optimized  No_imput_Ensembled  \\\n",
       "AUC_ROC             0.745272                     0.790064            0.747195   \n",
       "Precision           0.764109                     0.661304            0.491138   \n",
       "Recall              0.538587                     0.680888            0.716290   \n",
       "\n",
       "           kNNImput_Stratify  kNNImput_Stratify_optimized  kNNImput_Ensembled  \n",
       "AUC_ROC             0.740462                     0.800768            0.752682  \n",
       "Precision           0.752245                     0.668485            0.494183  \n",
       "Recall              0.530617                     0.700286            0.723095  "
      ]
     },
     "execution_count": 78,
     "metadata": {},
     "output_type": "execute_result"
    }
   ],
   "source": [
    "results"
   ]
  },
  {
   "cell_type": "markdown",
   "id": "average-violin",
   "metadata": {},
   "source": [
    "# Final Considerations \n",
    "Stratifying per se yelds worse perfomance in terms of area under the ROC curve than ensembled resampling, while, through parameter optimization, it gives the best results overall.\\\n",
    "Leaving the missing values handling to xgboost makes no particular difference with imputing them with kNN. The latter performs slightly better, but the fact that some values have been imputed by an algorithm could be easily exploited by xgboost since imputation does not come from chance.\\\n",
    "Generally speaking, Ensembled samples, as a way to fight imbalance, give good results but are more prone to enhance recall rater than precision."
   ]
  },
  {
   "cell_type": "code",
   "execution_count": null,
   "id": "smaller-reality",
   "metadata": {},
   "outputs": [],
   "source": []
  }
 ],
 "metadata": {
  "kernelspec": {
   "display_name": "Python 3",
   "language": "python",
   "name": "python3"
  },
  "language_info": {
   "codemirror_mode": {
    "name": "ipython",
    "version": 3
   },
   "file_extension": ".py",
   "mimetype": "text/x-python",
   "name": "python",
   "nbconvert_exporter": "python",
   "pygments_lexer": "ipython3",
   "version": "3.7.9"
  }
 },
 "nbformat": 4,
 "nbformat_minor": 5
}
